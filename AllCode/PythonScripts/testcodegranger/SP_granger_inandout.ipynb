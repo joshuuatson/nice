{
 "cells": [
  {
   "cell_type": "code",
   "execution_count": 28,
   "id": "8336fdf1",
   "metadata": {},
   "outputs": [],
   "source": [
    "import numpy as np\n",
    "import matplotlib.pyplot as plt\n",
    "import pickle\n",
    "import time\n",
    "import gc\n",
    "from scipy.stats import zscore\n",
    "from scipy.ndimage import gaussian_filter1d\n",
    "import mne\n",
    "from mne_connectivity import spectral_connectivity_epochs\n",
    "#truncate mne print\n",
    "mne.set_log_level('WARNING')"
   ]
  },
  {
   "cell_type": "code",
   "execution_count": null,
   "id": "f0c5ca50",
   "metadata": {},
   "outputs": [],
   "source": [
    "def smooth_with_gaussian(data, sigma=3):\n",
    "    return gaussian_filter1d(data, sigma=sigma, axis=1) \n",
    "\n",
    "def preprocess(data):\n",
    "    stds = np.std(data[:, :], axis=0)\n",
    "    non_constant_cols = stds.astype(float) > 1e-6    #finds the time points where std is not 0\n",
    "    const_cols = stds.astype(float) <= 1e-6    #finds the time points where std is 0\n",
    "\n",
    "    z = np.zeros_like(data[:, :])   #creates an array of zeros with the same shape as the data\n",
    "    z[:, non_constant_cols] = zscore(data[:, non_constant_cols], axis=0)  #in the columns where std is not 0, zscores the data\n",
    "    z[:, const_cols] = np.mean(data[:, const_cols], axis=0)\n",
    "\n",
    " \n",
    "    if np.isnan(z).any():\n",
    "        raise ValueError(\"Data contains NaN values after normalization.\")\n",
    "\n",
    "    return z\n",
    "\n",
    "\n",
    "file_numbers = [1, 2, 4, 8, 14, 15, 20, 23]\n",
    "def load_data():\n",
    "    l_al = []\n",
    "    r_al = []\n",
    "    l_ar = []\n",
    "    r_ar = []\n",
    "    a_al =[]\n",
    "    a_ar = []\n",
    "    for file_number in  file_numbers:\n",
    "        file_total = time.time()\n",
    "        file_path = f'C:/Users/joshu/PartIIIProject/RSNNdale_attention_{file_number}_attention_test'\n",
    "        load_data_start_time = time.time()\n",
    "        data = pickle.load(open(file_path, 'rb'))\n",
    "        elapsed_time = time.time() - load_data_start_time\n",
    "        print(f\"Dataset {file_number} loaded in {elapsed_time:.2f} seconds\")\n",
    "\n",
    "        label_left = data['label_left'][0]\n",
    "        label_right = data['label_right'][0]\n",
    "        attend_01 = data['attend'][0]\n",
    "        omitted = data['omit'][0]\n",
    "        relevant = np.where(omitted ==0)[0]\n",
    "    \n",
    "        left_input_SP = data['SP'][0][0][relevant,  100:350]\n",
    "        right_input_SP = data['SP'][0][1][relevant,  100:350]\n",
    "        attention_SP = data['SP'][0][2][relevant,  100:350]\n",
    "\n",
    "        sigma = 2\n",
    "\n",
    "        left_sm = smooth_with_gaussian(left_input_SP, sigma=sigma) \n",
    "        right_sm = smooth_with_gaussian(right_input_SP, sigma=sigma) \n",
    "        att_sm = smooth_with_gaussian(attention_SP, sigma=sigma) \n",
    "\n",
    "        num_trials, num_samples, num_neurons = left_input_SP.shape\n",
    "        num_neurons_attention = 80\n",
    "\n",
    "                \n",
    "        for j in range(0, num_trials):\n",
    "            for i in range(0, num_neurons):\n",
    "                count_left = np.count_nonzero(left_input_SP[j, :, i] == 1)\n",
    "                if count_left > 0:\n",
    "                    left_sm[j, :, i] /= count_left\n",
    "                count_right = np.count_nonzero(right_input_SP[j, :, i] == 1)\n",
    "                if count_right > 0:\n",
    "                    right_sm[j, :, i] /= count_right\n",
    "\n",
    "\n",
    "            for i in range(0, num_neurons_attention):\n",
    "                count_attention = np.count_nonzero(attention_SP[j, :, i] == 1)\n",
    "                if count_attention > 0:\n",
    "                    att_sm[j, :, i] /= count_attention\n",
    "\n",
    "\n",
    "        left_input_SP = np.sum(left_sm, axis=2)\n",
    "        right_input_SP = np.sum(right_sm, axis=2)\n",
    "        attention_SP = np.sum(att_sm, axis=2)\n",
    "\n",
    "        #preprocess here now that we have traces of all of the relavant trials\n",
    "        left_indices_agg = np.where((omitted ==0) & (attend_01 == 0) & (label_left != label_right))[0]  #indices of agg where left\n",
    "        _, left_indices, _ = np.intersect1d(relevant, left_indices_agg, return_indices = True)   #indices for relevant processed data where attention left\n",
    "        right_indices_agg = np.where((omitted ==0) & (attend_01 == 1) & (label_left != label_right))[0]\n",
    "        _, right_indices, _ = np.intersect1d(relevant, right_indices_agg, return_indices = True)\n",
    "\n",
    "        left_input_SP = preprocess(left_input_SP)\n",
    "        right_input_SP = preprocess(right_input_SP)\n",
    "        attention_SP = preprocess(attention_SP)\n",
    "\n",
    "        #splitting left and right\n",
    "        l_al.append(left_input_SP[left_indices, :])\n",
    "        r_al.append(right_input_SP[left_indices, :])\n",
    "        a_al.append(attention_SP[left_indices, :])\n",
    "\n",
    "        l_ar.append(left_input_SP[right_indices, :])\n",
    "        r_ar.append(right_input_SP[right_indices, :])\n",
    "        a_ar.append(attention_SP[right_indices, :])\n",
    "\n",
    "        \n",
    "\n",
    "        del left_input_SP, right_input_SP, attention_SP\n",
    "        gc.collect()\n",
    "        del(data)\n",
    "        gc.collect()\n",
    "        print(f'Dataset {file_number} complete in', time.time() - file_total)\n",
    "\n",
    "    return l_al, r_al, l_ar, r_ar, a_al, a_ar\n",
    "\n"
   ]
  },
  {
   "cell_type": "code",
   "execution_count": 55,
   "id": "b808ce5a",
   "metadata": {},
   "outputs": [
    {
     "name": "stdout",
     "output_type": "stream",
     "text": [
      "Dataset 1 loaded in 22.78 seconds\n",
      "Dataset 1 complete in 32.26982927322388\n",
      "Dataset 1 complete in 32.26982927322388\n",
      "Dataset 2 loaded in 8.75 seconds\n",
      "Dataset 2 loaded in 8.75 seconds\n",
      "Dataset 2 complete in 18.569000482559204\n",
      "Dataset 2 complete in 18.569000482559204\n",
      "Dataset 4 loaded in 8.93 seconds\n",
      "Dataset 4 loaded in 8.93 seconds\n",
      "Dataset 4 complete in 16.081558227539062\n",
      "Dataset 4 complete in 16.081558227539062\n",
      "Dataset 8 loaded in 8.64 seconds\n",
      "Dataset 8 loaded in 8.64 seconds\n",
      "Dataset 8 complete in 16.768514156341553\n",
      "Dataset 8 complete in 16.768514156341553\n",
      "Dataset 14 loaded in 9.04 seconds\n",
      "Dataset 14 loaded in 9.04 seconds\n",
      "Dataset 14 complete in 18.36772108078003\n",
      "Dataset 14 complete in 18.36772108078003\n",
      "Dataset 15 loaded in 13.06 seconds\n",
      "Dataset 15 loaded in 13.06 seconds\n",
      "Dataset 15 complete in 22.73269271850586\n",
      "Dataset 15 complete in 22.73269271850586\n",
      "Dataset 20 loaded in 11.16 seconds\n",
      "Dataset 20 loaded in 11.16 seconds\n",
      "Dataset 20 complete in 24.70556664466858\n",
      "Dataset 20 complete in 24.70556664466858\n",
      "Dataset 23 loaded in 12.84 seconds\n",
      "Dataset 23 loaded in 12.84 seconds\n",
      "Dataset 23 complete in 23.285093069076538\n",
      "Dataset 23 complete in 23.285093069076538\n"
     ]
    }
   ],
   "source": [
    "l_al, r_al, l_ar, r_ar, a_al, a_ar = load_data()"
   ]
  },
  {
   "cell_type": "code",
   "execution_count": 56,
   "id": "d6ab7a72",
   "metadata": {},
   "outputs": [],
   "source": [
    "bands = ['delta', 'theta', 'alpha', 'beta', 'gamma']\n",
    "sfreq = 500.0\n",
    "ch_names = ['left_input', 'right_input', 'attention_layer']\n",
    "ch_types = ['eeg', 'eeg', 'eeg']\n",
    "\n",
    "freq_ranges = [(0, 4), (4, 8), (8, 13), (13, 30), (30, 80)]\n",
    "\n",
    "# Initialize granger_results as a nested dictionary for each file, condition, and band\n",
    "\n",
    "\n",
    "def granger_calc(left, right, attention):\n",
    "    results = []\n",
    "    freqs = []\n",
    "    for idx, fn in enumerate(file_numbers):\n",
    "        info = mne.create_info(ch_names=ch_names, sfreq=sfreq, ch_types=ch_types)\n",
    "\n",
    "        data= np.stack([\n",
    "            left[idx], \n",
    "            right[idx], \n",
    "            attention[idx]\n",
    "        ], axis=1) \n",
    "        print(data.shape)\n",
    "\n",
    "        epochs = mne.EpochsArray(\n",
    "            data,\n",
    "            info, \n",
    "            tmin=0, \n",
    "            baseline=None\n",
    "        )\n",
    "\n",
    "            # Define channel indices for Granger causality\n",
    "        seeds = np.array([[0], [1]])\n",
    "        targets = np.array([[2], [2]])\n",
    "        indices = (seeds, targets)\n",
    "\n",
    "        # Compute Granger causality\n",
    "        gc = spectral_connectivity_epochs(\n",
    "            epochs, method='gc', indices=indices, sfreq=sfreq,\n",
    "            fmin=0.5, fmax=40.0, tmin=0.0, tmax=(250 - 1) / sfreq, gc_n_lags=5\n",
    "        )\n",
    "\n",
    "      \n",
    "        # Extract Granger causality data\n",
    "        gc_data = gc.get_data()\n",
    "        freqs = gc.freqs\n",
    "\n",
    "        results.append(gc_data)\n",
    "        freqs = gc.freqs\n",
    "\n",
    "    return results, freqs\n"
   ]
  },
  {
   "cell_type": "code",
   "execution_count": 57,
   "id": "b419a24c",
   "metadata": {},
   "outputs": [
    {
     "name": "stdout",
     "output_type": "stream",
     "text": [
      "(468, 3, 250)\n"
     ]
    },
    {
     "name": "stderr",
     "output_type": "stream",
     "text": [
      "C:\\Users\\joshu\\AppData\\Local\\Temp\\ipykernel_21152\\907049264.py:37: RuntimeWarning: There were no Annotations stored in <EpochsArray | 468 events (all good), 0 – 0.498 s (baseline off), ~2.7 MiB, data loaded,\n",
      " '1': 468>, so metadata was not modified.\n",
      "  gc = spectral_connectivity_epochs(\n",
      "C:\\Users\\joshu\\AppData\\Local\\Temp\\ipykernel_21152\\907049264.py:37: RuntimeWarning: fmin=0.500 Hz corresponds to 0.250 < 5 cycles based on the epoch length 0.500 sec, need at least 10.000 sec epochs or fmin=10.000. Spectrum estimate will be unreliable.\n",
      "  gc = spectral_connectivity_epochs(\n"
     ]
    },
    {
     "name": "stdout",
     "output_type": "stream",
     "text": [
      "(463, 3, 250)\n"
     ]
    },
    {
     "name": "stderr",
     "output_type": "stream",
     "text": [
      "C:\\Users\\joshu\\AppData\\Local\\Temp\\ipykernel_21152\\907049264.py:37: RuntimeWarning: There were no Annotations stored in <EpochsArray | 463 events (all good), 0 – 0.498 s (baseline off), ~2.7 MiB, data loaded,\n",
      " '1': 463>, so metadata was not modified.\n",
      "  gc = spectral_connectivity_epochs(\n",
      "C:\\Users\\joshu\\AppData\\Local\\Temp\\ipykernel_21152\\907049264.py:37: RuntimeWarning: fmin=0.500 Hz corresponds to 0.250 < 5 cycles based on the epoch length 0.500 sec, need at least 10.000 sec epochs or fmin=10.000. Spectrum estimate will be unreliable.\n",
      "  gc = spectral_connectivity_epochs(\n"
     ]
    },
    {
     "name": "stdout",
     "output_type": "stream",
     "text": [
      "(471, 3, 250)\n"
     ]
    },
    {
     "name": "stderr",
     "output_type": "stream",
     "text": [
      "C:\\Users\\joshu\\AppData\\Local\\Temp\\ipykernel_21152\\907049264.py:37: RuntimeWarning: There were no Annotations stored in <EpochsArray | 471 events (all good), 0 – 0.498 s (baseline off), ~2.7 MiB, data loaded,\n",
      " '1': 471>, so metadata was not modified.\n",
      "  gc = spectral_connectivity_epochs(\n",
      "C:\\Users\\joshu\\AppData\\Local\\Temp\\ipykernel_21152\\907049264.py:37: RuntimeWarning: fmin=0.500 Hz corresponds to 0.250 < 5 cycles based on the epoch length 0.500 sec, need at least 10.000 sec epochs or fmin=10.000. Spectrum estimate will be unreliable.\n",
      "  gc = spectral_connectivity_epochs(\n"
     ]
    },
    {
     "name": "stdout",
     "output_type": "stream",
     "text": [
      "(492, 3, 250)\n"
     ]
    },
    {
     "name": "stderr",
     "output_type": "stream",
     "text": [
      "C:\\Users\\joshu\\AppData\\Local\\Temp\\ipykernel_21152\\907049264.py:37: RuntimeWarning: There were no Annotations stored in <EpochsArray | 492 events (all good), 0 – 0.498 s (baseline off), ~2.8 MiB, data loaded,\n",
      " '1': 492>, so metadata was not modified.\n",
      "  gc = spectral_connectivity_epochs(\n",
      "C:\\Users\\joshu\\AppData\\Local\\Temp\\ipykernel_21152\\907049264.py:37: RuntimeWarning: fmin=0.500 Hz corresponds to 0.250 < 5 cycles based on the epoch length 0.500 sec, need at least 10.000 sec epochs or fmin=10.000. Spectrum estimate will be unreliable.\n",
      "  gc = spectral_connectivity_epochs(\n"
     ]
    },
    {
     "name": "stdout",
     "output_type": "stream",
     "text": [
      "(503, 3, 250)\n"
     ]
    },
    {
     "name": "stderr",
     "output_type": "stream",
     "text": [
      "C:\\Users\\joshu\\AppData\\Local\\Temp\\ipykernel_21152\\907049264.py:37: RuntimeWarning: There were no Annotations stored in <EpochsArray | 503 events (all good), 0 – 0.498 s (baseline off), ~2.9 MiB, data loaded,\n",
      " '1': 503>, so metadata was not modified.\n",
      "  gc = spectral_connectivity_epochs(\n",
      "C:\\Users\\joshu\\AppData\\Local\\Temp\\ipykernel_21152\\907049264.py:37: RuntimeWarning: fmin=0.500 Hz corresponds to 0.250 < 5 cycles based on the epoch length 0.500 sec, need at least 10.000 sec epochs or fmin=10.000. Spectrum estimate will be unreliable.\n",
      "  gc = spectral_connectivity_epochs(\n"
     ]
    },
    {
     "name": "stdout",
     "output_type": "stream",
     "text": [
      "(448, 3, 250)\n"
     ]
    },
    {
     "name": "stderr",
     "output_type": "stream",
     "text": [
      "C:\\Users\\joshu\\AppData\\Local\\Temp\\ipykernel_21152\\907049264.py:37: RuntimeWarning: There were no Annotations stored in <EpochsArray | 448 events (all good), 0 – 0.498 s (baseline off), ~2.6 MiB, data loaded,\n",
      " '1': 448>, so metadata was not modified.\n",
      "  gc = spectral_connectivity_epochs(\n",
      "C:\\Users\\joshu\\AppData\\Local\\Temp\\ipykernel_21152\\907049264.py:37: RuntimeWarning: fmin=0.500 Hz corresponds to 0.250 < 5 cycles based on the epoch length 0.500 sec, need at least 10.000 sec epochs or fmin=10.000. Spectrum estimate will be unreliable.\n",
      "  gc = spectral_connectivity_epochs(\n"
     ]
    },
    {
     "name": "stdout",
     "output_type": "stream",
     "text": [
      "(452, 3, 250)\n"
     ]
    },
    {
     "name": "stderr",
     "output_type": "stream",
     "text": [
      "C:\\Users\\joshu\\AppData\\Local\\Temp\\ipykernel_21152\\907049264.py:37: RuntimeWarning: There were no Annotations stored in <EpochsArray | 452 events (all good), 0 – 0.498 s (baseline off), ~2.6 MiB, data loaded,\n",
      " '1': 452>, so metadata was not modified.\n",
      "  gc = spectral_connectivity_epochs(\n",
      "C:\\Users\\joshu\\AppData\\Local\\Temp\\ipykernel_21152\\907049264.py:37: RuntimeWarning: fmin=0.500 Hz corresponds to 0.250 < 5 cycles based on the epoch length 0.500 sec, need at least 10.000 sec epochs or fmin=10.000. Spectrum estimate will be unreliable.\n",
      "  gc = spectral_connectivity_epochs(\n"
     ]
    },
    {
     "name": "stdout",
     "output_type": "stream",
     "text": [
      "(488, 3, 250)\n"
     ]
    },
    {
     "name": "stderr",
     "output_type": "stream",
     "text": [
      "C:\\Users\\joshu\\AppData\\Local\\Temp\\ipykernel_21152\\907049264.py:37: RuntimeWarning: There were no Annotations stored in <EpochsArray | 488 events (all good), 0 – 0.498 s (baseline off), ~2.8 MiB, data loaded,\n",
      " '1': 488>, so metadata was not modified.\n",
      "  gc = spectral_connectivity_epochs(\n",
      "C:\\Users\\joshu\\AppData\\Local\\Temp\\ipykernel_21152\\907049264.py:37: RuntimeWarning: fmin=0.500 Hz corresponds to 0.250 < 5 cycles based on the epoch length 0.500 sec, need at least 10.000 sec epochs or fmin=10.000. Spectrum estimate will be unreliable.\n",
      "  gc = spectral_connectivity_epochs(\n"
     ]
    },
    {
     "name": "stdout",
     "output_type": "stream",
     "text": [
      "(536, 3, 250)\n"
     ]
    },
    {
     "name": "stderr",
     "output_type": "stream",
     "text": [
      "C:\\Users\\joshu\\AppData\\Local\\Temp\\ipykernel_21152\\907049264.py:37: RuntimeWarning: There were no Annotations stored in <EpochsArray | 536 events (all good), 0 – 0.498 s (baseline off), ~3.1 MiB, data loaded,\n",
      " '1': 536>, so metadata was not modified.\n",
      "  gc = spectral_connectivity_epochs(\n",
      "C:\\Users\\joshu\\AppData\\Local\\Temp\\ipykernel_21152\\907049264.py:37: RuntimeWarning: fmin=0.500 Hz corresponds to 0.250 < 5 cycles based on the epoch length 0.500 sec, need at least 10.000 sec epochs or fmin=10.000. Spectrum estimate will be unreliable.\n",
      "  gc = spectral_connectivity_epochs(\n"
     ]
    },
    {
     "name": "stdout",
     "output_type": "stream",
     "text": [
      "(479, 3, 250)\n"
     ]
    },
    {
     "name": "stderr",
     "output_type": "stream",
     "text": [
      "C:\\Users\\joshu\\AppData\\Local\\Temp\\ipykernel_21152\\907049264.py:37: RuntimeWarning: There were no Annotations stored in <EpochsArray | 479 events (all good), 0 – 0.498 s (baseline off), ~2.7 MiB, data loaded,\n",
      " '1': 479>, so metadata was not modified.\n",
      "  gc = spectral_connectivity_epochs(\n",
      "C:\\Users\\joshu\\AppData\\Local\\Temp\\ipykernel_21152\\907049264.py:37: RuntimeWarning: fmin=0.500 Hz corresponds to 0.250 < 5 cycles based on the epoch length 0.500 sec, need at least 10.000 sec epochs or fmin=10.000. Spectrum estimate will be unreliable.\n",
      "  gc = spectral_connectivity_epochs(\n"
     ]
    },
    {
     "name": "stdout",
     "output_type": "stream",
     "text": [
      "(455, 3, 250)\n"
     ]
    },
    {
     "name": "stderr",
     "output_type": "stream",
     "text": [
      "C:\\Users\\joshu\\AppData\\Local\\Temp\\ipykernel_21152\\907049264.py:37: RuntimeWarning: There were no Annotations stored in <EpochsArray | 455 events (all good), 0 – 0.498 s (baseline off), ~2.6 MiB, data loaded,\n",
      " '1': 455>, so metadata was not modified.\n",
      "  gc = spectral_connectivity_epochs(\n",
      "C:\\Users\\joshu\\AppData\\Local\\Temp\\ipykernel_21152\\907049264.py:37: RuntimeWarning: fmin=0.500 Hz corresponds to 0.250 < 5 cycles based on the epoch length 0.500 sec, need at least 10.000 sec epochs or fmin=10.000. Spectrum estimate will be unreliable.\n",
      "  gc = spectral_connectivity_epochs(\n"
     ]
    },
    {
     "name": "stdout",
     "output_type": "stream",
     "text": [
      "(473, 3, 250)\n"
     ]
    },
    {
     "name": "stderr",
     "output_type": "stream",
     "text": [
      "C:\\Users\\joshu\\AppData\\Local\\Temp\\ipykernel_21152\\907049264.py:37: RuntimeWarning: There were no Annotations stored in <EpochsArray | 473 events (all good), 0 – 0.498 s (baseline off), ~2.7 MiB, data loaded,\n",
      " '1': 473>, so metadata was not modified.\n",
      "  gc = spectral_connectivity_epochs(\n",
      "C:\\Users\\joshu\\AppData\\Local\\Temp\\ipykernel_21152\\907049264.py:37: RuntimeWarning: fmin=0.500 Hz corresponds to 0.250 < 5 cycles based on the epoch length 0.500 sec, need at least 10.000 sec epochs or fmin=10.000. Spectrum estimate will be unreliable.\n",
      "  gc = spectral_connectivity_epochs(\n"
     ]
    },
    {
     "name": "stdout",
     "output_type": "stream",
     "text": [
      "(471, 3, 250)\n"
     ]
    },
    {
     "name": "stderr",
     "output_type": "stream",
     "text": [
      "C:\\Users\\joshu\\AppData\\Local\\Temp\\ipykernel_21152\\907049264.py:37: RuntimeWarning: There were no Annotations stored in <EpochsArray | 471 events (all good), 0 – 0.498 s (baseline off), ~2.7 MiB, data loaded,\n",
      " '1': 471>, so metadata was not modified.\n",
      "  gc = spectral_connectivity_epochs(\n",
      "C:\\Users\\joshu\\AppData\\Local\\Temp\\ipykernel_21152\\907049264.py:37: RuntimeWarning: fmin=0.500 Hz corresponds to 0.250 < 5 cycles based on the epoch length 0.500 sec, need at least 10.000 sec epochs or fmin=10.000. Spectrum estimate will be unreliable.\n",
      "  gc = spectral_connectivity_epochs(\n"
     ]
    },
    {
     "name": "stdout",
     "output_type": "stream",
     "text": [
      "(525, 3, 250)\n"
     ]
    },
    {
     "name": "stderr",
     "output_type": "stream",
     "text": [
      "C:\\Users\\joshu\\AppData\\Local\\Temp\\ipykernel_21152\\907049264.py:37: RuntimeWarning: There were no Annotations stored in <EpochsArray | 525 events (all good), 0 – 0.498 s (baseline off), ~3.0 MiB, data loaded,\n",
      " '1': 525>, so metadata was not modified.\n",
      "  gc = spectral_connectivity_epochs(\n",
      "C:\\Users\\joshu\\AppData\\Local\\Temp\\ipykernel_21152\\907049264.py:37: RuntimeWarning: fmin=0.500 Hz corresponds to 0.250 < 5 cycles based on the epoch length 0.500 sec, need at least 10.000 sec epochs or fmin=10.000. Spectrum estimate will be unreliable.\n",
      "  gc = spectral_connectivity_epochs(\n"
     ]
    },
    {
     "name": "stdout",
     "output_type": "stream",
     "text": [
      "(505, 3, 250)\n"
     ]
    },
    {
     "name": "stderr",
     "output_type": "stream",
     "text": [
      "C:\\Users\\joshu\\AppData\\Local\\Temp\\ipykernel_21152\\907049264.py:37: RuntimeWarning: There were no Annotations stored in <EpochsArray | 505 events (all good), 0 – 0.498 s (baseline off), ~2.9 MiB, data loaded,\n",
      " '1': 505>, so metadata was not modified.\n",
      "  gc = spectral_connectivity_epochs(\n",
      "C:\\Users\\joshu\\AppData\\Local\\Temp\\ipykernel_21152\\907049264.py:37: RuntimeWarning: fmin=0.500 Hz corresponds to 0.250 < 5 cycles based on the epoch length 0.500 sec, need at least 10.000 sec epochs or fmin=10.000. Spectrum estimate will be unreliable.\n",
      "  gc = spectral_connectivity_epochs(\n"
     ]
    },
    {
     "name": "stdout",
     "output_type": "stream",
     "text": [
      "(496, 3, 250)\n"
     ]
    },
    {
     "name": "stderr",
     "output_type": "stream",
     "text": [
      "C:\\Users\\joshu\\AppData\\Local\\Temp\\ipykernel_21152\\907049264.py:37: RuntimeWarning: There were no Annotations stored in <EpochsArray | 496 events (all good), 0 – 0.498 s (baseline off), ~2.8 MiB, data loaded,\n",
      " '1': 496>, so metadata was not modified.\n",
      "  gc = spectral_connectivity_epochs(\n",
      "C:\\Users\\joshu\\AppData\\Local\\Temp\\ipykernel_21152\\907049264.py:37: RuntimeWarning: fmin=0.500 Hz corresponds to 0.250 < 5 cycles based on the epoch length 0.500 sec, need at least 10.000 sec epochs or fmin=10.000. Spectrum estimate will be unreliable.\n",
      "  gc = spectral_connectivity_epochs(\n"
     ]
    }
   ],
   "source": [
    "left_results, freqs = granger_calc(l_al, r_al, a_al)\n",
    "right_results, freqs = granger_calc(l_ar, r_ar, a_ar)"
   ]
  },
  {
   "cell_type": "code",
   "execution_count": null,
   "id": "81f0c902",
   "metadata": {},
   "outputs": [
    {
     "name": "stdout",
     "output_type": "stream",
     "text": [
      "(2, 20)\n"
     ]
    }
   ],
   "source": [
    "#    gc_data_left[0, :], GC Left -> Attention for attention left\n",
    "#    gc_data_left[1, :], GC Right -> Attention for attention left\n",
    "\n",
    "#granger_data_left has lal and rar data, in [trials, freq] format. want mean acorss trials for each band\n",
    "\n",
    "print(left_results[1].shape)\n"
   ]
  },
  {
   "cell_type": "code",
   "execution_count": 62,
   "id": "15d0a2b3",
   "metadata": {},
   "outputs": [],
   "source": [
    "# Plot Granger causality vs frequency for each connection in each dataset\n",
    "import matplotlib.pyplot as plt\n",
    "\n",
    "def plot_granger(data):\n",
    "    for ds_idx, gc_arr in enumerate(data):\n",
    "        plt.figure(figsize=(10, 5))\n",
    "        plt.plot(freqs, gc_arr[0, :], label='Left → Attention')\n",
    "        plt.plot(freqs, gc_arr[1, :], label='Right → Attention')\n",
    "        plt.title(f'Granger Causality vs Frequency (Dataset {file_numbers[ds_idx]})')\n",
    "        plt.xlabel('Frequency (Hz)')\n",
    "        plt.ylabel('Granger Causality')\n",
    "        plt.legend()\n",
    "        plt.grid(True)\n",
    "        plt.tight_layout()\n",
    "        plt.show()\n",
    "\n",
    "#plot_granger(left_results)\n",
    "#plot_granger(right_results)\n",
    "\n",
    "# If you want to do the same for right_results, repeat with right_results instead of left_results."
   ]
  },
  {
   "cell_type": "code",
   "execution_count": 68,
   "id": "d3e36f47",
   "metadata": {},
   "outputs": [],
   "source": [
    "# Compute average Granger causality for each band, for each dataset, for each condition\n",
    "# Output arrays: shape (n_datasets, n_bands)\n",
    "\n",
    "def compute_band_averages(results, freqs, bands, freq_ranges):\n",
    "    n_datasets = len(results)\n",
    "    n_bands = len(bands)\n",
    "    freqs_arr = np.array(freqs)  # Ensure freqs is a NumPy array\n",
    "    left_to_att = np.zeros((n_datasets, n_bands))\n",
    "    right_to_att = np.zeros((n_datasets, n_bands))\n",
    "    for idx, gc in enumerate(results):\n",
    "        for band_idx, (fmin, fmax) in enumerate(freq_ranges):\n",
    "            band_mask = (freqs_arr >= fmin) & (freqs_arr < fmax)\n",
    "            left_to_att[idx, band_idx] = np.mean(gc[0, band_mask])\n",
    "            right_to_att[idx, band_idx] = np.mean(gc[1, band_mask])\n",
    "    return left_to_att, right_to_att\n",
    "\n",
    "# For attend-left (l_al, r_al)\n",
    "lal_band_avg, ral_band_avg = compute_band_averages(left_results, freqs, bands, freq_ranges)\n",
    "# For attend-right (l_ar, r_ar)\n",
    "lar_band_avg, rar_band_avg = compute_band_averages(right_results, freqs, bands, freq_ranges)\n",
    "\n",
    "g_in = (lal_band_avg + rar_band_avg) / 2\n",
    "g_out = (lar_band_avg + ral_band_avg) / 2\n",
    "              "
   ]
  },
  {
   "cell_type": "code",
   "execution_count": 78,
   "id": "6f18bab9",
   "metadata": {},
   "outputs": [],
   "source": [
    "def plot_Granger_bands(g_in, g_out, bands=None, width=0.35):\n",
    "    if bands is None:\n",
    "        n_bands = g_in.shape[1]\n",
    "        bands = [f'Band {i+1}' for i in range(n_bands)]\n",
    "    else:\n",
    "        n_bands = len(bands)\n",
    "\n",
    "    x = np.arange(n_bands)\n",
    "\n",
    "    fig, ax = plt.subplots(figsize=(10, 7))\n",
    "\n",
    "    # Boxplots: In at x-width/2, Out at x+width/2\n",
    "    bp_in = ax.boxplot([g_in[:, i] for i in range(n_bands)],\n",
    "                       positions=x - width/2,\n",
    "                       widths=width,\n",
    "                       patch_artist=True,\n",
    "                       boxprops=dict(facecolor='C0', alpha=0.6),\n",
    "                       medianprops=dict(color='k'))\n",
    "    bp_out = ax.boxplot([g_out[:, i] for i in range(n_bands)],\n",
    "                        positions=x + width/2,\n",
    "                        widths=width,\n",
    "                        patch_artist=True,\n",
    "                        boxprops=dict(facecolor='C1', alpha=0.6),\n",
    "                        medianprops=dict(color='k'))\n",
    "\n",
    "    ax.set_xticks(x)\n",
    "    ax.set_xticklabels(bands)\n",
    "    ax.set_xlabel('Frequency Band')\n",
    "    ax.set_ylabel('Granger Causality')\n",
    "    ax.set_title('Granger Causality by Band (In vs Out)')\n",
    "\n",
    "    # Legend\n",
    "    handles = [bp_in['boxes'][0], bp_out['boxes'][0]]\n",
    "    ax.legend(handles, ['In', 'Out'], loc='upper right', fontsize=16)\n",
    "\n",
    "    plt.tight_layout()\n",
    "    plt.show()\n"
   ]
  },
  {
   "cell_type": "code",
   "execution_count": 79,
   "id": "94299667",
   "metadata": {},
   "outputs": [
    {
     "data": {
      "image/png": "[encoded data removed]",
      "text/plain": [
       "<Figure size 1000x700 with 1 Axes>"
      ]
     },
     "metadata": {},
     "output_type": "display_data"
    }
   ],
   "source": [
    "plot_Granger_bands(g_in, g_out, bands = bands)"
   ]
  },
  {
   "cell_type": "code",
   "execution_count": 82,
   "id": "99c00969",
   "metadata": {},
   "outputs": [
    {
     "name": "stdout",
     "output_type": "stream",
     "text": [
      "delta: t-statistic = 2.339, p-value = 0.05195218563327634\n",
      "theta: t-statistic = 2.583, p-value = 0.0363080566871089\n",
      "alpha: t-statistic = 2.452, p-value = 0.04395914925538955\n",
      "beta: t-statistic = 1.558, p-value = 0.16318815976467152\n",
      "gamma: t-statistic = 1.216, p-value = 0.2633224235263616\n"
     ]
    }
   ],
   "source": [
    "#ttest on each band\n",
    "from scipy.stats import ttest_rel\n",
    "def paired_ttest(g_in, g_out):\n",
    "    t_stats = []\n",
    "    p_values = []\n",
    "    for i in range(g_in.shape[1]):\n",
    "        t_stat, p_val = ttest_rel(g_in[:, i], g_out[:, i])\n",
    "        t_stats.append(t_stat)\n",
    "        p_values.append(p_val)\n",
    "    return np.array(t_stats), np.array(p_values)\n",
    "\n",
    "t_stats, p_values = paired_ttest(g_in, g_out)\n",
    "\n",
    "# Print t-statistics and p-values\n",
    "for i, band in enumerate(bands):\n",
    "    print(f\"{band}: t-statistic = {t_stats[i]:.3f}, p-value = {p_values[i]}\")"
   ]
  }
 ],
 "metadata": {
  "kernelspec": {
   "display_name": "granger_venv",
   "language": "python",
   "name": "python3"
  },
  "language_info": {
   "codemirror_mode": {
    "name": "ipython",
    "version": 3
   },
   "file_extension": ".py",
   "mimetype": "text/x-python",
   "name": "python",
   "nbconvert_exporter": "python",
   "pygments_lexer": "ipython3",
   "version": "3.11.1"
  }
 },
 "nbformat": 4,
 "nbformat_minor": 5
}
