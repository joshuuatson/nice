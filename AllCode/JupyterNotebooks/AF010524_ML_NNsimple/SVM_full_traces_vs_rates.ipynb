{
 "cells": [
  {
   "cell_type": "markdown",
   "id": "d1853dfc",
   "metadata": {},
   "source": [
    "SVM's take a set of n dim vectors will labeled classes, e.g. standard scalar rates of output for each trial. \n",
    "you then have different choices of kernel, can check all of these\n",
    "regularization values are tuneable\n"
   ]
  },
  {
   "cell_type": "code",
   "execution_count": 2,
   "id": "398e9cc0",
   "metadata": {},
   "outputs": [],
   "source": [
    "import os\n",
    "import pickle\n",
    "import time\n",
    "import numpy as np\n",
    "from scipy.ndimage import gaussian_filter1d\n",
    "from scipy.stats import zscore\n",
    "from sklearn.multioutput import MultiOutputRegressor\n",
    "from sklearn.preprocessing import StandardScaler\n",
    "from sklearn.svm import SVR\n",
    "from sklearn.model_selection import train_test_split, GridSearchCV\n",
    "from sklearn.metrics import mean_squared_error, r2_score\n",
    "from sklearn.decomposition import PCA\n",
    "from sklearn.pipeline import Pipeline\n"
   ]
  },
  {
   "cell_type": "code",
   "execution_count": 7,
   "id": "c891a475",
   "metadata": {},
   "outputs": [],
   "source": [
    "def smooth_with_gaussian(data, sigma=2):\n",
    "    return gaussian_filter1d(data, sigma=sigma, axis=1)\n",
    "\n",
    "def preprocess(data):\n",
    "    stds = np.std(data[:, :], axis=0)\n",
    "    non_constant_cols = stds.astype(float) > 1e-6    #finds the time points where std is not 0\n",
    "    const_cols = stds.astype(float) <= 1e-6    #finds the time points where std is 0\n",
    "\n",
    "    z = np.zeros_like(data[:, :])   #creates an array of zeros with the same shape as the data\n",
    "    z[:, non_constant_cols] = zscore(data[:, non_constant_cols], axis=0)  #in the columns where std is not 0, zscores the data\n",
    "    z[:, const_cols] = np.mean(data[:, const_cols], axis=0)\n",
    "\n",
    " \n",
    "    if np.isnan(z).any():\n",
    "        raise ValueError(\"Data contains NaN values after normalization.\")\n",
    "\n",
    "    return z\n",
    "\n",
    "l_al = []\n",
    "l_ar = []\n",
    "r_al = []\n",
    "r_ar = []\n",
    "sc_al = []\n",
    "sc_ar = []\n",
    "\n",
    "def load_and_split(file_numbers):\n",
    "    total_time = time.time()\n",
    "    for file_number in  file_numbers:\n",
    "        file_total = time.time()\n",
    "        file_path = f'C:/Users/joshu/PartIIIProject/RSNNdale_attention_{file_number}_attention_test'\n",
    "        load_data_start_time = time.time()\n",
    "        data = pickle.load(open(file_path, 'rb'))\n",
    "        elapsed_time = time.time() - load_data_start_time\n",
    "        print(f\"Dataset {file_number} loaded in {elapsed_time:.2f} seconds\")\n",
    "\n",
    "        attend_01 = data['attend'][0]\n",
    "        omitted = data['omit'][0]\n",
    "        relevant = np.where(omitted ==0)[0]\n",
    "\n",
    "        left_input_SP = data['SP'][0][0][relevant]\n",
    "        right_input_SP = data['SP'][0][1][relevant]\n",
    "        attention_SP = data['SP'][0][2][relevant] #shape (trials, time, neurons)\n",
    "        sigma = 2\n",
    "        left_sm = smooth_with_gaussian(left_input_SP, sigma=sigma) \n",
    "        right_sm = smooth_with_gaussian(right_input_SP, sigma=sigma) \n",
    "\n",
    "        num_trials, num_samples, num_neurons = left_input_SP.shape\n",
    "        num_neurons_attention = 80\n",
    "\n",
    "        for j in range(0, num_trials):\n",
    "            for i in range(0, num_neurons):\n",
    "                count_left = np.count_nonzero(left_input_SP[j, :, i] == 1)\n",
    "                if count_left > 0:\n",
    "                    left_sm[j, :, i] /= count_left\n",
    "                count_right = np.count_nonzero(right_input_SP[j, :, i] == 1)\n",
    "                if count_right > 0:\n",
    "                    right_sm[j, :, i] /= count_right\n",
    "\n",
    "        left_input_SP = np.sum(left_sm, axis=2)\n",
    "        right_input_SP = np.sum(right_sm, axis=2)\n",
    "\n",
    "        left_input_SP = preprocess(left_input_SP)\n",
    "        right_input_SP = preprocess(right_input_SP)\n",
    "\n",
    "\n",
    "        #preprocess here now that we have traces of all of the relavant trials\n",
    "        left_indices_agg = np.where((omitted ==0) & (attend_01 == 0))[0]  #indices of agg where left\n",
    "        _, left_indices, _ = np.intersect1d(relevant, left_indices_agg, return_indices = True)   #indices for relevant processed data where attention left\n",
    "        right_indices_agg = np.where((omitted ==0) & (attend_01 == 1))[0]\n",
    "        _, right_indices, _ = np.intersect1d(relevant, right_indices_agg, return_indices = True)\n",
    "\n",
    "        #splitting left and right\n",
    "        l_al.append(left_input_SP[left_indices, 100:350])\n",
    "        r_al.append(right_input_SP[left_indices, 100:350])\n",
    "\n",
    "        l_ar.append(left_input_SP[right_indices, 100:350])\n",
    "        r_ar.append(right_input_SP[right_indices, 100:350])\n",
    "\n",
    "        \n",
    "        #finding spike counts per neuron per trial\n",
    "        sc_al.append(np.sum(attention_SP[left_indices, :, :], axis = 1))\n",
    "        sc_ar.append(np.sum(attention_SP[right_indices, :, :], axis = 1))\n",
    "\n",
    "        print(f\"Dataset {file_number} processed in {time.time() - file_total:.2f} seconds\")\n",
    "    print(f\"All datasets processed in {time.time() - total_time:.2f} seconds\")\n"
   ]
  },
  {
   "cell_type": "code",
   "execution_count": 8,
   "id": "5cbcbbd9",
   "metadata": {},
   "outputs": [
    {
     "name": "stdout",
     "output_type": "stream",
     "text": [
      "Dataset 1 loaded in 6.54 seconds\n",
      "Dataset 1 processed in 15.95 seconds\n",
      "Dataset 2 loaded in 10.30 seconds\n",
      "Dataset 2 processed in 23.03 seconds\n",
      "All datasets processed in 38.99 seconds\n"
     ]
    }
   ],
   "source": [
    "load_and_split([1, 2])"
   ]
  },
  {
   "cell_type": "code",
   "execution_count": 9,
   "id": "f67f355d",
   "metadata": {},
   "outputs": [
    {
     "name": "stdout",
     "output_type": "stream",
     "text": [
      "(495, 250)\n",
      "(488, 250)\n",
      "(983, 250)\n",
      "(983, 250)\n",
      "(983, 80)\n"
     ]
    }
   ],
   "source": [
    "l_al_flat = np.concatenate(l_al, axis=0)\n",
    "l_ar_flat = np.concatenate(l_ar, axis=0)\n",
    "\n",
    "r_al_flat = np.concatenate(r_al, axis=0)\n",
    "r_ar_flat = np.concatenate(r_ar, axis=0)\n",
    "\n",
    "sc_al_flat = np.concatenate(sc_al, axis=0)\n",
    "sc_ar_flat = np.concatenate(sc_ar, axis=0)\n",
    "\n",
    "print(l_al[0].shape)\n",
    "print(l_al[1].shape)\n",
    "print(l_al_flat.shape)\n",
    "\n",
    "print(r_al_flat.shape)\n",
    "\n",
    "\n",
    "print(sc_al_flat.shape)"
   ]
  },
  {
   "cell_type": "code",
   "execution_count": 10,
   "id": "0c747fea",
   "metadata": {},
   "outputs": [
    {
     "name": "stdout",
     "output_type": "stream",
     "text": [
      "x shape (983, 250)\n",
      "y shape (983, 80)\n",
      "Best parameters: {'multi_svr__estimator__C': 10, 'multi_svr__estimator__epsilon': 0.5, 'multi_svr__estimator__gamma': 'auto', 'pca__n_components': 10}\n",
      "Test MSE: 300.2425\n",
      "Test R²: 0.1252\n",
      "x shape (983, 250)\n",
      "y shape (983, 80)\n"
     ]
    },
    {
     "name": "stderr",
     "output_type": "stream",
     "text": [
      "c:\\Users\\joshu\\nice\\.venv\\Lib\\site-packages\\numpy\\ma\\core.py:2881: RuntimeWarning: invalid value encountered in cast\n",
      "  _data = np.array(data, dtype=dtype, copy=copy,\n"
     ]
    },
    {
     "name": "stdout",
     "output_type": "stream",
     "text": [
      "Best parameters: {'multi_svr__estimator__C': 10, 'multi_svr__estimator__epsilon': 0.5, 'multi_svr__estimator__gamma': 'auto', 'pca__n_components': 10}\n",
      "Test MSE: 348.2985\n",
      "Test R²: 0.0659\n",
      "x shape (1064, 250)\n",
      "y shape (1064, 80)\n"
     ]
    },
    {
     "name": "stderr",
     "output_type": "stream",
     "text": [
      "c:\\Users\\joshu\\nice\\.venv\\Lib\\site-packages\\numpy\\ma\\core.py:2881: RuntimeWarning: invalid value encountered in cast\n",
      "  _data = np.array(data, dtype=dtype, copy=copy,\n"
     ]
    },
    {
     "name": "stdout",
     "output_type": "stream",
     "text": [
      "Best parameters: {'multi_svr__estimator__C': 10, 'multi_svr__estimator__epsilon': 0.5, 'multi_svr__estimator__gamma': 'auto', 'pca__n_components': 10}\n",
      "Test MSE: 262.0327\n",
      "Test R²: 0.1450\n",
      "x shape (1064, 250)\n",
      "y shape (1064, 80)\n",
      "Best parameters: {'multi_svr__estimator__C': 10, 'multi_svr__estimator__epsilon': 0.5, 'multi_svr__estimator__gamma': 'auto', 'pca__n_components': 20}\n",
      "Test MSE: 259.7086\n",
      "Test R²: 0.1529\n"
     ]
    }
   ],
   "source": [
    "def run_svr(X, Y, pca_components=[10, 20, 50]):\n",
    "    print('x shape', X.shape)\n",
    "    print('y shape', Y.shape)\n",
    "    X_train, X_test, y_train, y_test = train_test_split(\n",
    "        X, Y, test_size=0.2, random_state=42\n",
    "    )\n",
    "\n",
    "    # Build a pipeline: scaling -> PCA -> multi-output SVR\n",
    "    pipeline = Pipeline([\n",
    "        ('scaler', StandardScaler()),\n",
    "        ('pca', PCA()),\n",
    "        ('multi_svr', MultiOutputRegressor(SVR()))\n",
    "    ])\n",
    "\n",
    "    # Grid search over PCA components and SVR hyperparameters\n",
    "    param_grid = {\n",
    "        'pca__n_components': pca_components,\n",
    "        'multi_svr__estimator__C': [1, 10],\n",
    "        'multi_svr__estimator__epsilon': [0.1, 0.5],\n",
    "        'multi_svr__estimator__gamma': ['scale', 'auto'],\n",
    "    }\n",
    "\n",
    "    grid = GridSearchCV(\n",
    "        pipeline, param_grid, cv=3,\n",
    "        scoring='neg_mean_squared_error', n_jobs=-1\n",
    "    )\n",
    "    grid.fit(X_train, y_train)\n",
    "\n",
    "    # Best pipeline parameters\n",
    "    print(\"Best parameters:\", grid.best_params_)\n",
    "\n",
    "    # Evaluate on test set\n",
    "    y_pred = grid.predict(X_test)\n",
    "    mse_per_neuron = np.mean((y_pred - y_test)**2, axis=0)\n",
    "\n",
    "    mse = mean_squared_error(y_test, y_pred)\n",
    "    r2 = r2_score(y_test, y_pred)\n",
    "    print(f\"Test MSE: {mse:.4f}\")\n",
    "    print(f\"Test R²: {r2:.4f}\")\n",
    "\n",
    "    return grid.best_estimator_, mse_per_neuron\n",
    "\n",
    "# You can now use `grid.best_estimator_` to make predictions on new data.\n",
    "\n",
    "_, l_al_errors = run_svr(l_al_flat, sc_al_flat)\n",
    "_, r_al_errors = run_svr(r_al_flat, sc_al_flat)\n",
    "_, l_ar_errors = run_svr(l_ar_flat, sc_ar_flat)\n",
    "_, r_ar_errors = run_svr(r_ar_flat, sc_ar_flat)\n",
    "\n"
   ]
  },
  {
   "cell_type": "code",
   "execution_count": 16,
   "id": "66592652",
   "metadata": {},
   "outputs": [
    {
     "data": {
      "image/png": "[encoded data removed]",
      "text/plain": [
       "<Figure size 640x480 with 1 Axes>"
      ]
     },
     "metadata": {},
     "output_type": "display_data"
    }
   ],
   "source": [
    "in_errors = l_al_errors + r_ar_errors / 2\n",
    "out_errors = l_ar_errors + r_al_errors / 2\n",
    "\n",
    "import matplotlib.pyplot as plt\n",
    "\n",
    "plt.scatter(in_errors, out_errors, label='Error Points')\n",
    "plt.plot([min(in_errors), max(in_errors)], [min(in_errors), max(in_errors)], 'r--', label='Unity Line')\n",
    "\n",
    "# Calculate and plot the center of mass\n",
    "center_of_mass_x = np.mean(in_errors)\n",
    "center_of_mass_y = np.mean(out_errors)\n",
    "plt.scatter(center_of_mass_x, center_of_mass_y, color='green', label='Center of Mass', s=100, marker='x')\n",
    "\n",
    "plt.xlabel('In Errors')\n",
    "plt.ylabel('Out Errors')\n",
    "plt.title('Scatter Plot of In Errors vs Out Errors')\n",
    "plt.legend()\n",
    "plt.show()"
   ]
  }
 ],
 "metadata": {
  "kernelspec": {
   "display_name": ".venv",
   "language": "python",
   "name": "python3"
  },
  "language_info": {
   "codemirror_mode": {
    "name": "ipython",
    "version": 3
   },
   "file_extension": ".py",
   "mimetype": "text/x-python",
   "name": "python",
   "nbconvert_exporter": "python",
   "pygments_lexer": "ipython3",
   "version": "3.11.1"
  }
 },
 "nbformat": 4,
 "nbformat_minor": 5
}
